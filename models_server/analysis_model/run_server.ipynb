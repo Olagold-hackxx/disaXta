{
 "cells": [
  {
   "cell_type": "code",
   "execution_count": 44,
   "id": "b3b60e9a-3d30-4fa6-b42a-0bdd0f01c215",
   "metadata": {},
   "outputs": [
    {
     "name": "stdout",
     "output_type": "stream",
     "text": [
      "{\n",
      "  \"status\": \"OK\"\n",
      "}\n"
     ]
    }
   ],
   "source": [
    "!curl http://localhost:5000/api/v1/analysis/model/waverx/status"
   ]
  },
  {
   "cell_type": "code",
   "execution_count": 49,
   "id": "2d28a95f-c5c5-453f-8202-e844f7ba2099",
   "metadata": {},
   "outputs": [
    {
     "name": "stdout",
     "output_type": "stream",
     "text": [
      "<!doctype html>\n",
      "<html lang=en>\n",
      "<title>500 Internal Server Error</title>\n",
      "<h1>Internal Server Error</h1>\n",
      "<p>The server encountered an internal error and was unable to complete your request. Either the server is overloaded or there is an error in the application.</p>\n"
     ]
    }
   ],
   "source": [
    "!curl -X POST http://localhost:5000/api/v1/analysis/model/waverx -d \"apiKey=R9M7HHCH4EDADEUBCU3ZENKXN\" -d \"location=54,25\" -d \"startDate=2023-11-04\" -d \"endDate=2023-11-04\" -d \"disasterType=Flood\""
   ]
  },
  {
   "cell_type": "code",
   "execution_count": null,
   "id": "96e1e4ca-e895-409f-9e2c-2d8538ad162c",
   "metadata": {},
   "outputs": [],
   "source": []
  }
 ],
 "metadata": {
  "kernelspec": {
   "display_name": "Python 3 (ipykernel)",
   "language": "python",
   "name": "python3"
  },
  "language_info": {
   "codemirror_mode": {
    "name": "ipython",
    "version": 3
   },
   "file_extension": ".py",
   "mimetype": "text/x-python",
   "name": "python",
   "nbconvert_exporter": "python",
   "pygments_lexer": "ipython3",
   "version": "3.9.5"
  }
 },
 "nbformat": 4,
 "nbformat_minor": 5
}
